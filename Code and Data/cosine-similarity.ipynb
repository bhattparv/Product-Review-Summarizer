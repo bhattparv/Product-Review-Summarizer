{
 "cells": [
  {
   "cell_type": "code",
   "execution_count": 45,
   "id": "2e91a1b5",
   "metadata": {},
   "outputs": [],
   "source": [
    "import numpy as np\n",
    "import pandas as pd\n",
    "import nltk\n",
    "from nltk.tokenize import sent_tokenize\n",
    "#nltk.download('punkt')\n",
    "#nltk.download('stopwords')\n",
    "from nltk.corpus import stopwords\n",
    "import re\n",
    "from sklearn.metrics.pairwise import cosine_similarity\n",
    "import networkx as nx\n",
    "import transformers\n",
    "import time"
   ]
  },
  {
   "cell_type": "code",
   "execution_count": 124,
   "id": "fff010be",
   "metadata": {},
   "outputs": [],
   "source": [
    "df = pd.read_excel(r'sony-headphones.xlsx', 'Sheet1')\n",
    "df['body']=df['body'].apply(str)\n",
    "stop_words = stopwords.words('english')"
   ]
  },
  {
   "cell_type": "code",
   "execution_count": 125,
   "id": "8cfa1978",
   "metadata": {},
   "outputs": [],
   "source": [
    "def remove_stopwords(sen):\n",
    "    sen_new = \" \".join([i for i in sen if i not in stop_words])\n",
    "    return sen_new"
   ]
  },
  {
   "cell_type": "code",
   "execution_count": 126,
   "id": "6369d4e5",
   "metadata": {},
   "outputs": [],
   "source": [
    "def my_summarizer(dataframe):\n",
    "    \n",
    "    sentences = []\n",
    "    for s in dataframe['body']:\n",
    "        sentences.append(sent_tokenize(s))\n",
    "    \n",
    "    sentences = [y for x in sentences for y in x]\n",
    "    \n",
    "    clean_sentences = pd.Series(sentences).str.replace(\"[^a-zA-Z]\", \" \", regex=True)\n",
    "    clean_sentences = [s.lower() for s in clean_sentences]\n",
    "    \n",
    "    clean_sentences = [remove_stopwords(r.split()) for r in clean_sentences]\n",
    "    \n",
    "    word_embeddings = {}\n",
    "    f = open('glove.6B\\glove.6B.100d.txt', encoding='utf-8')\n",
    "    for line in f:\n",
    "        values = line.split()\n",
    "        word = values[0]\n",
    "        coefs = np.asarray(values[1:], dtype='float32')\n",
    "        word_embeddings[word] = coefs\n",
    "    f.close()\n",
    "    \n",
    "    sentence_vectors = []\n",
    "    for i in clean_sentences:\n",
    "        if len(i) != 0:\n",
    "            v = sum([word_embeddings.get(w, np.zeros((100,))) for w in i.split()])/(len(i.split())+0.001)\n",
    "        else:\n",
    "            v = np.zeros((100,))\n",
    "        sentence_vectors.append(v)\n",
    "    \n",
    "    print(len(sentence_vectors))\n",
    "    \n",
    "    sim_mat = np.zeros([len(sentences), len(sentences)])\n",
    "    \n",
    "    for i in range(len(sentences)):\n",
    "        for j in range(len(sentences)):\n",
    "            if i != j:\n",
    "                sim_mat[i][j] = cosine_similarity(sentence_vectors[i].reshape(1,100), sentence_vectors[j].reshape(1,100))[0,0]\n",
    "        \n",
    "    nx_graph = nx.from_numpy_array(sim_mat)\n",
    "    scores = nx.pagerank(nx_graph)\n",
    "    \n",
    "    ranked_sentences = sorted(((scores[i],s) for i,s in enumerate(sentences)), reverse=True)\n",
    "    \n",
    "    \n",
    "    \n",
    "    \n",
    "    sn1 = 10\n",
    "    sn2 = 5\n",
    "    sn3 = 1\n",
    "    \n",
    "    try:\n",
    "        text = ''\n",
    "        for i in range(sn1):\n",
    "            text = text + ranked_sentences[i][1]  \n",
    "    except:\n",
    "        try: \n",
    "            text = ''\n",
    "            for i in range(sn2):\n",
    "                text = text + ranked_sentences[i][1]      \n",
    "        except:\n",
    "            try:\n",
    "                text = ''\n",
    "                for i in range(sn3):\n",
    "                    text = text + ranked_sentences[i][1]\n",
    "            except:\n",
    "                pass\n",
    "      \n",
    "    return text\n",
    "        \n",
    "    "
   ]
  },
  {
   "cell_type": "code",
   "execution_count": 127,
   "id": "4ab5f097",
   "metadata": {
    "scrolled": true
   },
   "outputs": [
    {
     "name": "stdout",
     "output_type": "stream",
     "text": [
      "1901\n",
      "1791\n",
      "2469\n",
      "2830\n",
      "7958\n"
     ]
    }
   ],
   "source": [
    "df1 = df[df['rating']==1]\n",
    "df2 = df[df['rating']==2]\n",
    "df3 = df[df['rating']==3]\n",
    "df4 = df[df['rating']==4]\n",
    "df5 = df[df['rating']==5]\n",
    "\n",
    "text1 = my_summarizer(df1)\n",
    "text2 = my_summarizer(df2)\n",
    "text3 = my_summarizer(df3)\n",
    "text4 = my_summarizer(df4)\n",
    "text5 = my_summarizer(df5)  "
   ]
  },
  {
   "cell_type": "code",
   "execution_count": 128,
   "id": "7a1b5bcc",
   "metadata": {},
   "outputs": [
    {
     "name": "stderr",
     "output_type": "stream",
     "text": [
      "No model was supplied, defaulted to t5-small (https://huggingface.co/t5-small)\n",
      "All model checkpoint layers were used when initializing TFT5ForConditionalGeneration.\n",
      "\n",
      "All the layers of TFT5ForConditionalGeneration were initialized from the model checkpoint at t5-small.\n",
      "If your task is similar to the task the model of the checkpoint was trained on, you can already use TFT5ForConditionalGeneration for predictions without further training.\n"
     ]
    }
   ],
   "source": [
    "summarizer = transformers.pipeline(\"summarization\")"
   ]
  },
  {
   "cell_type": "code",
   "execution_count": 129,
   "id": "97d52a81",
   "metadata": {},
   "outputs": [
    {
     "name": "stderr",
     "output_type": "stream",
     "text": [
      "Token indices sequence length is longer than the specified maximum sequence length for this model (857 > 512). Running this sequence through the model will result in indexing errors\n"
     ]
    }
   ],
   "source": [
    "summarized1 = summarizer(text1, min_length=75, max_length=300)\n",
    "summarized2 = summarizer(text2, min_length=75, max_length=300)\n",
    "summarized3 = summarizer(text3, min_length=75, max_length=300)\n",
    "summarized4 = summarizer(text4, min_length=75, max_length=300)\n",
    "summarized5 = summarizer(text5, min_length=75, max_length=300)"
   ]
  },
  {
   "cell_type": "code",
   "execution_count": 130,
   "id": "38028c55",
   "metadata": {},
   "outputs": [],
   "source": [
    "df_review = pd.DataFrame(columns = ['product', 'rating', 'summary'])\n",
    "df_review = df_review.append({'product': df['product'][1], 'rating': '1', 'summary': summarized1}, ignore_index = True)\n",
    "df_review = df_review.append({'product': df['product'][1], 'rating': '2', 'summary': summarized2}, ignore_index = True)\n",
    "df_review = df_review.append({'product': df['product'][1], 'rating': '3', 'summary': summarized3}, ignore_index = True)\n",
    "df_review = df_review.append({'product': df['product'][1], 'rating': '4', 'summary': summarized4}, ignore_index = True)\n",
    "df_review = df_review.append({'product': df['product'][1], 'rating': '5', 'summary': summarized5}, ignore_index = True)"
   ]
  },
  {
   "cell_type": "code",
   "execution_count": 131,
   "id": "9da299aa",
   "metadata": {},
   "outputs": [
    {
     "name": "stdout",
     "output_type": "stream",
     "text": [
      "                                             product rating  \\\n",
      "0  Sony WH-1000XM4 Wireless Industry Leading Nois...      1   \n",
      "1  Sony WH-1000XM4 Wireless Industry Leading Nois...      2   \n",
      "2  Sony WH-1000XM4 Wireless Industry Leading Nois...      3   \n",
      "3  Sony WH-1000XM4 Wireless Industry Leading Nois...      4   \n",
      "4  Sony WH-1000XM4 Wireless Industry Leading Nois...      5   \n",
      "\n",
      "                                             summary  \n",
      "0  [{'summary_text': 'this is a common issue for ...  \n",
      "1  [{'summary_text': 'the bose QC35s block/cancel...  \n",
      "2  [{'summary_text': 'the urethane ear pads on ot...  \n",
      "3  [{'summary_text': 'this is NOT an 'audiophile'...  \n",
      "4  [{'summary_text': 'the sound quality is amazin...  \n"
     ]
    }
   ],
   "source": [
    "print(df_review)"
   ]
  },
  {
   "cell_type": "code",
   "execution_count": 132,
   "id": "fb71ad5a",
   "metadata": {},
   "outputs": [
    {
     "name": "stdout",
     "output_type": "stream",
     "text": [
      "File 'sony-headphones-review 20211128-214526.xlsx' saved successfully\n"
     ]
    }
   ],
   "source": [
    "timestr = time.strftime(\"%Y%m%d-%H%M%S\")\n",
    "df_review.to_excel('sony-headphones-review %s.xlsx' %timestr, index = False, sheet_name='review')\n",
    "print('File \\'sony-headphones-review %s.xlsx\\' saved successfully' %timestr)"
   ]
  },
  {
   "cell_type": "code",
   "execution_count": null,
   "id": "3e1b4b65",
   "metadata": {},
   "outputs": [],
   "source": []
  }
 ],
 "metadata": {
  "kernelspec": {
   "display_name": "Python 3 (ipykernel)",
   "language": "python",
   "name": "python3"
  },
  "language_info": {
   "codemirror_mode": {
    "name": "ipython",
    "version": 3
   },
   "file_extension": ".py",
   "mimetype": "text/x-python",
   "name": "python",
   "nbconvert_exporter": "python",
   "pygments_lexer": "ipython3",
   "version": "3.9.7"
  }
 },
 "nbformat": 4,
 "nbformat_minor": 5
}
