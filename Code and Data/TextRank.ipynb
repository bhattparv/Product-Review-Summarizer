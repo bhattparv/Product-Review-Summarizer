{
 "cells": [
  {
   "cell_type": "code",
   "execution_count": 1,
   "id": "c98d0d46",
   "metadata": {},
   "outputs": [
    {
     "name": "stderr",
     "output_type": "stream",
     "text": [
      "[nltk_data] Downloading package punkt to\n",
      "[nltk_data]     C:\\Users\\namra\\AppData\\Roaming\\nltk_data...\n",
      "[nltk_data]   Unzipping tokenizers\\punkt.zip.\n"
     ]
    }
   ],
   "source": [
    "import numpy as np\n",
    "import pandas as pd\n",
    "import nltk\n",
    "nltk.download('punkt') # one time execution\n",
    "import re"
   ]
  },
  {
   "cell_type": "code",
   "execution_count": 5,
   "id": "1cc46b19",
   "metadata": {},
   "outputs": [],
   "source": [
    "data = pd.read_excel(r'C:\\Users\\namra\\Downloads\\sony-headphones.xlsx')"
   ]
  },
  {
   "cell_type": "code",
   "execution_count": 6,
   "id": "ef2abb87",
   "metadata": {},
   "outputs": [
    {
     "data": {
      "text/html": [
       "<div>\n",
       "<style scoped>\n",
       "    .dataframe tbody tr th:only-of-type {\n",
       "        vertical-align: middle;\n",
       "    }\n",
       "\n",
       "    .dataframe tbody tr th {\n",
       "        vertical-align: top;\n",
       "    }\n",
       "\n",
       "    .dataframe thead th {\n",
       "        text-align: right;\n",
       "    }\n",
       "</style>\n",
       "<table border=\"1\" class=\"dataframe\">\n",
       "  <thead>\n",
       "    <tr style=\"text-align: right;\">\n",
       "      <th></th>\n",
       "      <th>product</th>\n",
       "      <th>title</th>\n",
       "      <th>rating</th>\n",
       "      <th>body</th>\n",
       "    </tr>\n",
       "  </thead>\n",
       "  <tbody>\n",
       "    <tr>\n",
       "      <th>0</th>\n",
       "      <td>Sony WH-1000XM4 Wireless Industry Leading Nois...</td>\n",
       "      <td>Great sound, but several issues make it a no-g...</td>\n",
       "      <td>2</td>\n",
       "      <td>I have owned the Bose QC 35 series I (the orig...</td>\n",
       "    </tr>\n",
       "    <tr>\n",
       "      <th>1</th>\n",
       "      <td>Sony WH-1000XM4 Wireless Industry Leading Nois...</td>\n",
       "      <td>Comfort, noise canceling, and quality. UPDATE ...</td>\n",
       "      <td>5</td>\n",
       "      <td>Download Sony Headphone Connect App, open box,...</td>\n",
       "    </tr>\n",
       "    <tr>\n",
       "      <th>2</th>\n",
       "      <td>Sony WH-1000XM4 Wireless Industry Leading Nois...</td>\n",
       "      <td>What have I done to deserve this?</td>\n",
       "      <td>1</td>\n",
       "      <td>I have one of the oldest versions of these hea...</td>\n",
       "    </tr>\n",
       "    <tr>\n",
       "      <th>3</th>\n",
       "      <td>Sony WH-1000XM4 Wireless Industry Leading Nois...</td>\n",
       "      <td>SOOOO happy with my decision</td>\n",
       "      <td>5</td>\n",
       "      <td>So I was stuck between last year's M3 and the ...</td>\n",
       "    </tr>\n",
       "    <tr>\n",
       "      <th>4</th>\n",
       "      <td>Sony WH-1000XM4 Wireless Industry Leading Nois...</td>\n",
       "      <td>Best headphones I've ever owned but -1 star fo...</td>\n",
       "      <td>4</td>\n",
       "      <td>As of about three years ago, I was an earbuds ...</td>\n",
       "    </tr>\n",
       "  </tbody>\n",
       "</table>\n",
       "</div>"
      ],
      "text/plain": [
       "                                             product  \\\n",
       "0  Sony WH-1000XM4 Wireless Industry Leading Nois...   \n",
       "1  Sony WH-1000XM4 Wireless Industry Leading Nois...   \n",
       "2  Sony WH-1000XM4 Wireless Industry Leading Nois...   \n",
       "3  Sony WH-1000XM4 Wireless Industry Leading Nois...   \n",
       "4  Sony WH-1000XM4 Wireless Industry Leading Nois...   \n",
       "\n",
       "                                               title  rating  \\\n",
       "0  Great sound, but several issues make it a no-g...       2   \n",
       "1  Comfort, noise canceling, and quality. UPDATE ...       5   \n",
       "2                  What have I done to deserve this?       1   \n",
       "3                       SOOOO happy with my decision       5   \n",
       "4  Best headphones I've ever owned but -1 star fo...       4   \n",
       "\n",
       "                                                body  \n",
       "0  I have owned the Bose QC 35 series I (the orig...  \n",
       "1  Download Sony Headphone Connect App, open box,...  \n",
       "2  I have one of the oldest versions of these hea...  \n",
       "3  So I was stuck between last year's M3 and the ...  \n",
       "4  As of about three years ago, I was an earbuds ...  "
      ]
     },
     "execution_count": 6,
     "metadata": {},
     "output_type": "execute_result"
    }
   ],
   "source": [
    "data.head()"
   ]
  },
  {
   "cell_type": "code",
   "execution_count": 12,
   "id": "04f6f2e4",
   "metadata": {},
   "outputs": [
    {
     "data": {
      "text/plain": [
       "product    0\n",
       "title      0\n",
       "rating     0\n",
       "body       0\n",
       "dtype: int64"
      ]
     },
     "execution_count": 12,
     "metadata": {},
     "output_type": "execute_result"
    }
   ],
   "source": [
    "data.isnull().sum()"
   ]
  },
  {
   "cell_type": "code",
   "execution_count": 27,
   "id": "e9608ffc",
   "metadata": {},
   "outputs": [],
   "source": [
    "text1,text2,text3,text4,text5 = [],[],[],[],[]\n",
    "\n",
    "for i in range(len(data['rating'])):\n",
    "    if data['rating'][i]==1:\n",
    "        text1.append(data['body'][i])\n",
    "    elif data['rating'][i]==2:\n",
    "        text2.append(data['body'][i])\n",
    "    elif data['rating'][i]==3:\n",
    "        text3.append(data['body'][i])\n",
    "    elif data['rating'][i]==4:\n",
    "        text4.append(data['body'][i])\n",
    "    else:\n",
    "        text5.append(data['body'][i])"
   ]
  },
  {
   "cell_type": "code",
   "execution_count": 28,
   "id": "6cd35ef0",
   "metadata": {},
   "outputs": [],
   "source": [
    "text1 = ''.join(text1)\n",
    "text2 = ''.join(text2)\n",
    "text3 = ''.join(text3)\n",
    "text4 = ''.join(text4)\n",
    "text5 = ''.join(text5)"
   ]
  },
  {
   "cell_type": "code",
   "execution_count": null,
   "id": "24b5a24e",
   "metadata": {},
   "outputs": [],
   "source": []
  }
 ],
 "metadata": {
  "kernelspec": {
   "display_name": "Python 3",
   "language": "python",
   "name": "python3"
  },
  "language_info": {
   "codemirror_mode": {
    "name": "ipython",
    "version": 3
   },
   "file_extension": ".py",
   "mimetype": "text/x-python",
   "name": "python",
   "nbconvert_exporter": "python",
   "pygments_lexer": "ipython3",
   "version": "3.8.8"
  }
 },
 "nbformat": 4,
 "nbformat_minor": 5
}
