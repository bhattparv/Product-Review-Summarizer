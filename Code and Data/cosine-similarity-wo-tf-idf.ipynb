{
 "cells": [
  {
   "cell_type": "markdown",
   "id": "12188de9",
   "metadata": {},
   "source": [
    "## Importing Libraries"
   ]
  },
  {
   "cell_type": "code",
   "execution_count": 1,
   "id": "2e91a1b5",
   "metadata": {},
   "outputs": [],
   "source": [
    "import numpy as np\n",
    "import pandas as pd\n",
    "import nltk\n",
    "from nltk.tokenize import sent_tokenize\n",
    "#nltk.download('punkt')\n",
    "#nltk.download('stopwords')\n",
    "from nltk.corpus import stopwords\n",
    "import re\n",
    "from sklearn.metrics.pairwise import cosine_similarity\n",
    "import networkx as nx\n",
    "import transformers\n",
    "import time"
   ]
  },
  {
   "cell_type": "markdown",
   "id": "70673316",
   "metadata": {},
   "source": [
    "## Reading Data"
   ]
  },
  {
   "cell_type": "code",
   "execution_count": 2,
   "id": "fff010be",
   "metadata": {},
   "outputs": [],
   "source": [
    "df = pd.read_excel(r'C:\\Users\\namra\\Downloads\\sony-headphones.xlsx')\n",
    "df['body']=df['body'].apply(str)\n",
    "stop_words = stopwords.words('english')"
   ]
  },
  {
   "cell_type": "markdown",
   "id": "6084b7ad",
   "metadata": {},
   "source": [
    "## Loading GloVe Word Embeddings"
   ]
  },
  {
   "cell_type": "code",
   "execution_count": null,
   "id": "6e12bf3f",
   "metadata": {},
   "outputs": [],
   "source": [
    "word_embeddings = {}\n",
    "    f = open('glove.6B\\glove.6B.100d.txt', encoding='utf-8')\n",
    "    for line in f:\n",
    "        values = line.split()\n",
    "        word = values[0]\n",
    "        coefs = np.asarray(values[1:], dtype='float32')\n",
    "        word_embeddings[word] = coefs\n",
    "    f.close()"
   ]
  },
  {
   "cell_type": "code",
   "execution_count": 125,
   "id": "8cfa1978",
   "metadata": {},
   "outputs": [],
   "source": [
    "# Removing Stopwords like : 'i', 'me', 'my', 'myself', 'we', 'our', 'ours'\n",
    "def remove_stopwords(sen):\n",
    "    sen_new = \" \".join([i for i in sen if i not in stop_words])\n",
    "    return sen_new"
   ]
  },
  {
   "cell_type": "code",
   "execution_count": 126,
   "id": "6369d4e5",
   "metadata": {},
   "outputs": [],
   "source": [
    "def my_summarizer(dataframe):\n",
    "    \n",
    "    sentences = []\n",
    "    for s in dataframe['body']:\n",
    "        sentences.append(sent_tokenize(s))    #Tokeninzing the sentences\n",
    "    \n",
    "    sentences = [y for x in sentences for y in x] # Flattening the sentences list\n",
    "    \n",
    "    #Replacing Non-Alphabetical characters with empty string\n",
    "    clean_sentences = pd.Series(sentences).str.replace(\"[^a-zA-Z]\", \" \", regex=True) \n",
    "    clean_sentences = [s.lower() for s in clean_sentences] # Converting sentences to Lower-Case\n",
    "    \n",
    "    clean_sentences = [remove_stopwords(r.split()) for r in clean_sentences]\n",
    "    \n",
    "    \n",
    "    # Vector Representation of Sentences\n",
    "    sentence_vectors = []\n",
    "    for i in clean_sentences:\n",
    "        if len(i) != 0:\n",
    "            v = sum([word_embeddings.get(w, np.zeros((100,))) for w in i.split()])/(len(i.split())+0.001)\n",
    "        else:\n",
    "            v = np.zeros((100,))\n",
    "        sentence_vectors.append(v)\n",
    "    \n",
    "    print(len(sentence_vectors))\n",
    "    # Similarity Matrix Preparation using cosine similarity\n",
    "    sim_mat = np.zeros([len(sentences), len(sentences)])\n",
    "    \n",
    "    for i in range(len(sentences)):\n",
    "        for j in range(len(sentences)):\n",
    "            if i != j:\n",
    "                sim_mat[i][j] = cosine_similarity(sentence_vectors[i].reshape(1,100), sentence_vectors[j].reshape(1,100))[0,0]\n",
    "                \n",
    "    # Applying PageRank Algorithm\n",
    "    nx_graph = nx.from_numpy_array(sim_mat)\n",
    "    scores = nx.pagerank(nx_graph)\n",
    "    \n",
    "    ranked_sentences = sorted(((scores[i],s) for i,s in enumerate(sentences)), reverse=True)\n",
    "    \n",
    "    \n",
    "    \n",
    "    \n",
    "    sn1 = 10\n",
    "    sn2 = 5\n",
    "    sn3 = 1\n",
    "    \n",
    "    try:\n",
    "        text = ''\n",
    "        for i in range(sn1):\n",
    "            text = text + ranked_sentences[i][1]  \n",
    "    except:\n",
    "        try: \n",
    "            text = ''\n",
    "            for i in range(sn2):\n",
    "                text = text + ranked_sentences[i][1]      \n",
    "        except:\n",
    "            try:\n",
    "                text = ''\n",
    "                for i in range(sn3):\n",
    "                    text = text + ranked_sentences[i][1]\n",
    "            except:\n",
    "                pass\n",
    "      \n",
    "    return text\n",
    "        \n",
    "    "
   ]
  },
  {
   "cell_type": "code",
   "execution_count": null,
   "id": "4ab5f097",
   "metadata": {
    "scrolled": true
   },
   "outputs": [
    {
     "name": "stdout",
     "output_type": "stream",
     "text": [
      "1901\n",
      "1791\n"
     ]
    }
   ],
   "source": [
    "df1 = df[df['rating']==1]\n",
    "df2 = df[df['rating']==2]\n",
    "df3 = df[df['rating']==3]\n",
    "df4 = df[df['rating']==4]\n",
    "df5 = df[df['rating']==5]\n",
    "\n",
    "text1 = my_summarizer(df1)\n",
    "text2 = my_summarizer(df2)\n",
    "text3 = my_summarizer(df3)\n",
    "text4 = my_summarizer(df4)\n",
    "text5 = my_summarizer(df5)  "
   ]
  },
  {
   "cell_type": "markdown",
   "id": "670e4d92",
   "metadata": {},
   "source": [
    "## Applying Hugging Face Transformers for Text Summarization"
   ]
  },
  {
   "cell_type": "code",
   "execution_count": null,
   "id": "7a1b5bcc",
   "metadata": {},
   "outputs": [],
   "source": [
    "summarizer = transformers.pipeline(\"summarization\")"
   ]
  },
  {
   "cell_type": "code",
   "execution_count": null,
   "id": "97d52a81",
   "metadata": {},
   "outputs": [],
   "source": [
    "summarized1 = summarizer(text1, min_length=75, max_length=300)\n",
    "summarized2 = summarizer(text2, min_length=75, max_length=300)\n",
    "summarized3 = summarizer(text3, min_length=75, max_length=300)\n",
    "summarized4 = summarizer(text4, min_length=75, max_length=300)\n",
    "summarized5 = summarizer(text5, min_length=75, max_length=300)"
   ]
  },
  {
   "cell_type": "code",
   "execution_count": null,
   "id": "8bc06e86",
   "metadata": {},
   "outputs": [],
   "source": [
    "countList =[]\n",
    "percentageList = []\n",
    "i=1\n",
    "while i<=5:\n",
    "    countList.append(len(df[df['rating']==i]))\n",
    "    calculatedValue = (round(float((len(df[df['rating']==i]))/len(df)),3))*100\n",
    "    percentageList.append(calculatedValue)\n",
    "    i=i+1"
   ]
  },
  {
   "cell_type": "code",
   "execution_count": null,
   "id": "38028c55",
   "metadata": {},
   "outputs": [],
   "source": [
    "df_review = pd.DataFrame(columns = ['product', 'rating', 'summary'])\n",
    "df_review = df_review.append({'product': df['product'][1], 'rating': '1', 'summary': summarized1,'Counts':countList[0],'Percentage of Total':percentageList[0]}, ignore_index = True)\n",
    "df_review = df_review.append({'product': df['product'][1], 'rating': '2', 'summary': summarized2,'Counts':countList[1],'Percentage of Total':percentageList[1]}, ignore_index = True)\n",
    "df_review = df_review.append({'product': df['product'][1], 'rating': '3', 'summary': summarized3,'Counts':countList[2],'Percentage of Total':percentageList[2]}, ignore_index = True)\n",
    "df_review = df_review.append({'product': df['product'][1], 'rating': '4', 'summary': summarized4,'Counts':countList[3],'Percentage of Total':percentageList[3]}, ignore_index = True)\n",
    "df_review = df_review.append({'product': df['product'][1], 'rating': '5', 'summary': summarized5,'Counts':countList[4],'Percentage of Total':percentageList[4]}, ignore_index = True)"
   ]
  },
  {
   "cell_type": "code",
   "execution_count": null,
   "id": "9da299aa",
   "metadata": {},
   "outputs": [],
   "source": [
    "print(df_review)"
   ]
  },
  {
   "cell_type": "markdown",
   "id": "9f50ae82",
   "metadata": {},
   "source": [
    "## Saving the Summarized Text to Excel"
   ]
  },
  {
   "cell_type": "code",
   "execution_count": null,
   "id": "47ecf06e",
   "metadata": {},
   "outputs": [],
   "source": [
    "timestr = time.strftime(\"%Y%m%d-%H%M%S\")\n",
    "df_review.to_excel('sony-headphones-review %s.xlsx' %timestr, index = False, sheet_name='review')\n",
    "print('File \\'sony-headphones-review %s.xlsx\\' saved successfully' %timestr)"
   ]
  },
  {
   "cell_type": "code",
   "execution_count": null,
   "id": "ac12349c",
   "metadata": {},
   "outputs": [],
   "source": []
  }
 ],
 "metadata": {
  "kernelspec": {
   "display_name": "Python 3 (ipykernel)",
   "language": "python",
   "name": "python3"
  },
  "language_info": {
   "codemirror_mode": {
    "name": "ipython",
    "version": 3
   },
   "file_extension": ".py",
   "mimetype": "text/x-python",
   "name": "python",
   "nbconvert_exporter": "python",
   "pygments_lexer": "ipython3",
   "version": "3.9.7"
  }
 },
 "nbformat": 4,
 "nbformat_minor": 5
}
